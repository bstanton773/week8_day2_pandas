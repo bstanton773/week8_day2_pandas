{
 "cells": [
  {
   "cell_type": "markdown",
   "metadata": {},
   "source": [
    "# Data Science Pandas"
   ]
  },
  {
   "cell_type": "markdown",
   "metadata": {},
   "source": [
    "## Tasks Today:\n",
    "\n",
    "1) <b>Pandas</b> <br>\n",
    " &nbsp;&nbsp;&nbsp;&nbsp; a) Importing <br>\n",
    " &nbsp;&nbsp;&nbsp;&nbsp; b) Tabular Data Structures <br>\n",
    " &nbsp;&nbsp;&nbsp;&nbsp;&nbsp;&nbsp;&nbsp;&nbsp; - from_dict() <br>\n",
    " &nbsp;&nbsp;&nbsp;&nbsp;&nbsp;&nbsp;&nbsp;&nbsp; - read_csv() <br>\n",
    " &nbsp;&nbsp;&nbsp;&nbsp; c) <b>In-Class Exercise #1</b> <br>\n",
    "  &nbsp;&nbsp;&nbsp;&nbsp; d) Built-In Methods <br>\n",
    " &nbsp;&nbsp;&nbsp;&nbsp;&nbsp;&nbsp;&nbsp;&nbsp; - head() <br>\n",
    " &nbsp;&nbsp;&nbsp;&nbsp;&nbsp;&nbsp;&nbsp;&nbsp; - tail() <br>\n",
    " &nbsp;&nbsp;&nbsp;&nbsp;&nbsp;&nbsp;&nbsp;&nbsp; - shape <br>\n",
    " &nbsp;&nbsp;&nbsp;&nbsp;&nbsp;&nbsp;&nbsp;&nbsp; - describe() <br>\n",
    " &nbsp;&nbsp;&nbsp;&nbsp;&nbsp;&nbsp;&nbsp;&nbsp; - sort_values() <br>\n",
    " &nbsp;&nbsp;&nbsp;&nbsp;&nbsp;&nbsp;&nbsp;&nbsp; - keys() <br>\n",
    " &nbsp;&nbsp;&nbsp;&nbsp;&nbsp;&nbsp;&nbsp;&nbsp; - .columns <br>\n",
    " &nbsp;&nbsp;&nbsp;&nbsp; e) Accessing Data <br>\n",
    " &nbsp;&nbsp;&nbsp;&nbsp;&nbsp;&nbsp;&nbsp;&nbsp; - Indexing <br>\n",
    " &nbsp;&nbsp;&nbsp;&nbsp;&nbsp;&nbsp;&nbsp;&nbsp; - df.loc <br>\n",
    " &nbsp;&nbsp;&nbsp;&nbsp;&nbsp;&nbsp;&nbsp;&nbsp; - df.iloc <br>\n",
    " &nbsp;&nbsp;&nbsp;&nbsp; f) <b>In-Class Exercise #2</b> <br>\n",
    " &nbsp;&nbsp;&nbsp;&nbsp; g) Filtration <br>\n",
    " &nbsp;&nbsp;&nbsp;&nbsp;&nbsp;&nbsp;&nbsp;&nbsp; - Conditionals <br>\n",
    " &nbsp;&nbsp;&nbsp;&nbsp;&nbsp;&nbsp;&nbsp;&nbsp; - Subsetting <br>\n",
    " &nbsp;&nbsp;&nbsp;&nbsp; h) Column Transformations <br>\n",
    " &nbsp;&nbsp;&nbsp;&nbsp;&nbsp;&nbsp;&nbsp;&nbsp; - Generating a New Column w/Data <br>\n",
    " &nbsp;&nbsp;&nbsp;&nbsp;&nbsp;&nbsp;&nbsp;&nbsp; - User Defined Function <br>\n",
    " &nbsp;&nbsp;&nbsp;&nbsp; i) Aggregations <br>\n",
    " &nbsp;&nbsp;&nbsp;&nbsp;&nbsp;&nbsp;&nbsp;&nbsp; - groupby() <br>\n",
    " &nbsp;&nbsp;&nbsp;&nbsp;&nbsp;&nbsp;&nbsp;&nbsp; - Type of groupby() <br>\n",
    " &nbsp;&nbsp;&nbsp;&nbsp;&nbsp;&nbsp;&nbsp;&nbsp; - mean() <br>\n",
    " &nbsp;&nbsp;&nbsp;&nbsp;&nbsp;&nbsp;&nbsp;&nbsp; - groupby() w/Multiple Columns <br>"
   ]
  },
  {
   "cell_type": "markdown",
   "metadata": {},
   "source": [
    "## Pandas <br>\n",
    "\n",
    "<p>Pandas is a flexible data analysis library built on top of NumPy that is excellent for working with tabular data. It is currently the de-facto standard for Python-based data analysis, and fluency in Pandas will do wonders for your productivity and frankly your resume. It is one of the fastest ways of getting from zero to answer in existence. </p>\n",
    "\n",
    "<ul>\n",
    "    <li>Pandas is a Python module, written in C. The Pandas module is a high performance, highly efficient, and high level data analysis library. It allows us to work with large sets of data called dataframes.</li>\n",
    "    <li>Series is a one-dimensional labeled array capable of holding data of any type (integer, string, float, python objects, etc.)</li>\n",
    "    <li>Dataframe = Spreadsheet (has column headers, index, etc.)</li>\n",
    "</ul>"
   ]
  },
  {
   "cell_type": "markdown",
   "metadata": {},
   "source": [
    "### Importing"
   ]
  },
  {
   "cell_type": "code",
   "execution_count": 2,
   "metadata": {},
   "outputs": [
    {
     "name": "stdout",
     "output_type": "stream",
     "text": [
      "Requirement already satisfied: pandas in c:\\users\\bstan\\anaconda3\\envs\\intro\\lib\\site-packages (1.2.4)\n",
      "Requirement already satisfied: numpy>=1.16.5 in c:\\users\\bstan\\anaconda3\\envs\\intro\\lib\\site-packages (from pandas) (1.21.3)\n",
      "Requirement already satisfied: pytz>=2017.3 in c:\\users\\bstan\\anaconda3\\envs\\intro\\lib\\site-packages (from pandas) (2021.1)\n",
      "Requirement already satisfied: python-dateutil>=2.7.3 in c:\\users\\bstan\\anaconda3\\envs\\intro\\lib\\site-packages (from pandas) (2.8.1)\n",
      "Requirement already satisfied: six>=1.5 in c:\\users\\bstan\\anaconda3\\envs\\intro\\lib\\site-packages (from python-dateutil>=2.7.3->pandas) (1.15.0)\n"
     ]
    }
   ],
   "source": [
    "!pip install pandas"
   ]
  },
  {
   "cell_type": "code",
   "execution_count": 3,
   "metadata": {},
   "outputs": [],
   "source": [
    "import numpy as np\n",
    "import pandas as pd\n",
    "\n",
    "# always use pd, standard for data science"
   ]
  },
  {
   "cell_type": "markdown",
   "metadata": {},
   "source": [
    "### Tabular data structures <br>\n",
    "<p>The central object of study in Pandas is the DataFrame, which is a tabular data structure with rows and columns like an excel spreadsheet. The first point of discussion is the creation of dataframes both from native Python dictionaries, and text files through the Pandas I/O system.</p>"
   ]
  },
  {
   "cell_type": "code",
   "execution_count": 4,
   "metadata": {
    "scrolled": true
   },
   "outputs": [
    {
     "data": {
      "text/plain": [
       "{'names': ['Alice',\n",
       "  'Bob',\n",
       "  'James',\n",
       "  'Beth',\n",
       "  'John',\n",
       "  'Sally',\n",
       "  'Richard',\n",
       "  'Lauren',\n",
       "  'Brandon',\n",
       "  'Sabrina'],\n",
       " 'ages': array([20, 18, 20, 23, 34, 21, 26, 18, 20, 33])}"
      ]
     },
     "execution_count": 4,
     "metadata": {},
     "output_type": "execute_result"
    }
   ],
   "source": [
    "names = ['Alice',\n",
    "         'Bob',\n",
    "         'James',\n",
    "         'Beth', \n",
    "         'John', \n",
    "         'Sally',\n",
    "         'Richard', \n",
    "         'Lauren',\n",
    "         'Brandon', \n",
    "         'Sabrina']\n",
    "\n",
    "ages = np.random.randint(18,35,len(names))\n",
    "\n",
    "my_people = {\n",
    "    'names': names,\n",
    "    'ages': ages\n",
    "}\n",
    "\n",
    "my_people\n"
   ]
  },
  {
   "cell_type": "markdown",
   "metadata": {},
   "source": [
    "##### from_dict()\n",
    "\n",
    "<p>Let's convert our not-so-useful-for-analysis dict into a Pandas dataframe. We can use the from_dict function to do this easily using Pandas:</p>"
   ]
  },
  {
   "cell_type": "code",
   "execution_count": 5,
   "metadata": {
    "scrolled": false
   },
   "outputs": [
    {
     "data": {
      "text/html": [
       "<div>\n",
       "<style scoped>\n",
       "    .dataframe tbody tr th:only-of-type {\n",
       "        vertical-align: middle;\n",
       "    }\n",
       "\n",
       "    .dataframe tbody tr th {\n",
       "        vertical-align: top;\n",
       "    }\n",
       "\n",
       "    .dataframe thead th {\n",
       "        text-align: right;\n",
       "    }\n",
       "</style>\n",
       "<table border=\"1\" class=\"dataframe\">\n",
       "  <thead>\n",
       "    <tr style=\"text-align: right;\">\n",
       "      <th></th>\n",
       "      <th>names</th>\n",
       "      <th>ages</th>\n",
       "    </tr>\n",
       "  </thead>\n",
       "  <tbody>\n",
       "    <tr>\n",
       "      <th>0</th>\n",
       "      <td>Alice</td>\n",
       "      <td>20</td>\n",
       "    </tr>\n",
       "    <tr>\n",
       "      <th>1</th>\n",
       "      <td>Bob</td>\n",
       "      <td>18</td>\n",
       "    </tr>\n",
       "    <tr>\n",
       "      <th>2</th>\n",
       "      <td>James</td>\n",
       "      <td>20</td>\n",
       "    </tr>\n",
       "    <tr>\n",
       "      <th>3</th>\n",
       "      <td>Beth</td>\n",
       "      <td>23</td>\n",
       "    </tr>\n",
       "    <tr>\n",
       "      <th>4</th>\n",
       "      <td>John</td>\n",
       "      <td>34</td>\n",
       "    </tr>\n",
       "    <tr>\n",
       "      <th>5</th>\n",
       "      <td>Sally</td>\n",
       "      <td>21</td>\n",
       "    </tr>\n",
       "    <tr>\n",
       "      <th>6</th>\n",
       "      <td>Richard</td>\n",
       "      <td>26</td>\n",
       "    </tr>\n",
       "    <tr>\n",
       "      <th>7</th>\n",
       "      <td>Lauren</td>\n",
       "      <td>18</td>\n",
       "    </tr>\n",
       "    <tr>\n",
       "      <th>8</th>\n",
       "      <td>Brandon</td>\n",
       "      <td>20</td>\n",
       "    </tr>\n",
       "    <tr>\n",
       "      <th>9</th>\n",
       "      <td>Sabrina</td>\n",
       "      <td>33</td>\n",
       "    </tr>\n",
       "  </tbody>\n",
       "</table>\n",
       "</div>"
      ],
      "text/plain": [
       "     names  ages\n",
       "0    Alice    20\n",
       "1      Bob    18\n",
       "2    James    20\n",
       "3     Beth    23\n",
       "4     John    34\n",
       "5    Sally    21\n",
       "6  Richard    26\n",
       "7   Lauren    18\n",
       "8  Brandon    20\n",
       "9  Sabrina    33"
      ]
     },
     "execution_count": 5,
     "metadata": {},
     "output_type": "execute_result"
    }
   ],
   "source": [
    "data = pd.DataFrame.from_dict(my_people)\n",
    "\n",
    "data"
   ]
  },
  {
   "cell_type": "markdown",
   "metadata": {},
   "source": [
    "##### read_csv()\n",
    "\n",
    "<p>Pandas also provides a function to read a csv into a DataFrame. Let's take a look at this using the Marathon data from yesterday's class</p>"
   ]
  },
  {
   "cell_type": "code",
   "execution_count": 6,
   "metadata": {
    "scrolled": true
   },
   "outputs": [
    {
     "data": {
      "text/html": [
       "<div>\n",
       "<style scoped>\n",
       "    .dataframe tbody tr th:only-of-type {\n",
       "        vertical-align: middle;\n",
       "    }\n",
       "\n",
       "    .dataframe tbody tr th {\n",
       "        vertical-align: top;\n",
       "    }\n",
       "\n",
       "    .dataframe thead th {\n",
       "        text-align: right;\n",
       "    }\n",
       "</style>\n",
       "<table border=\"1\" class=\"dataframe\">\n",
       "  <thead>\n",
       "    <tr style=\"text-align: right;\">\n",
       "      <th></th>\n",
       "      <th>10K</th>\n",
       "      <th>15K</th>\n",
       "      <th>20K</th>\n",
       "      <th>25K</th>\n",
       "      <th>30K</th>\n",
       "      <th>35K</th>\n",
       "      <th>40K</th>\n",
       "      <th>5K</th>\n",
       "      <th>Age</th>\n",
       "      <th>Bib</th>\n",
       "      <th>...</th>\n",
       "      <th>Gender</th>\n",
       "      <th>Half</th>\n",
       "      <th>M/F</th>\n",
       "      <th>Last Name</th>\n",
       "      <th>First Name</th>\n",
       "      <th>Number of Records</th>\n",
       "      <th>Official Time</th>\n",
       "      <th>Overall</th>\n",
       "      <th>Pace</th>\n",
       "      <th>State</th>\n",
       "    </tr>\n",
       "  </thead>\n",
       "  <tbody>\n",
       "    <tr>\n",
       "      <th>0</th>\n",
       "      <td>12/30/1899 12:30:28 AM</td>\n",
       "      <td>12/30/1899 12:45:44 AM</td>\n",
       "      <td>12/30/1899 1:01:15 AM</td>\n",
       "      <td>12/30/1899 1:16:59 AM</td>\n",
       "      <td>12/30/1899 1:33:01 AM</td>\n",
       "      <td>12/30/1899 1:48:19 AM</td>\n",
       "      <td>12/30/1899 2:02:53 AM</td>\n",
       "      <td>12/30/1899 12:15:25 AM</td>\n",
       "      <td>24</td>\n",
       "      <td>11.0</td>\n",
       "      <td>...</td>\n",
       "      <td>1</td>\n",
       "      <td>12/30/1899 1:04:35 AM</td>\n",
       "      <td>M</td>\n",
       "      <td>Kirui, Geoffrey</td>\n",
       "      <td>1</td>\n",
       "      <td>12/30/1899 2:09:37 AM</td>\n",
       "      <td>1</td>\n",
       "      <td>12/30/1899 12:04:57 AM</td>\n",
       "      <td>NaN</td>\n",
       "      <td>NaN</td>\n",
       "    </tr>\n",
       "    <tr>\n",
       "      <th>1</th>\n",
       "      <td>12/30/1899 12:30:27 AM</td>\n",
       "      <td>12/30/1899 12:45:44 AM</td>\n",
       "      <td>12/30/1899 1:01:15 AM</td>\n",
       "      <td>12/30/1899 1:16:59 AM</td>\n",
       "      <td>12/30/1899 1:33:01 AM</td>\n",
       "      <td>12/30/1899 1:48:19 AM</td>\n",
       "      <td>12/30/1899 2:03:14 AM</td>\n",
       "      <td>12/30/1899 12:15:24 AM</td>\n",
       "      <td>30</td>\n",
       "      <td>17.0</td>\n",
       "      <td>...</td>\n",
       "      <td>2</td>\n",
       "      <td>12/30/1899 1:04:35 AM</td>\n",
       "      <td>M</td>\n",
       "      <td>Rupp, Galen</td>\n",
       "      <td>1</td>\n",
       "      <td>12/30/1899 2:09:58 AM</td>\n",
       "      <td>2</td>\n",
       "      <td>12/30/1899 12:04:58 AM</td>\n",
       "      <td>OR</td>\n",
       "      <td>NaN</td>\n",
       "    </tr>\n",
       "    <tr>\n",
       "      <th>2</th>\n",
       "      <td>12/30/1899 12:30:29 AM</td>\n",
       "      <td>12/30/1899 12:45:44 AM</td>\n",
       "      <td>12/30/1899 1:01:16 AM</td>\n",
       "      <td>12/30/1899 1:17:00 AM</td>\n",
       "      <td>12/30/1899 1:33:01 AM</td>\n",
       "      <td>12/30/1899 1:48:31 AM</td>\n",
       "      <td>12/30/1899 2:03:38 AM</td>\n",
       "      <td>12/30/1899 12:15:25 AM</td>\n",
       "      <td>25</td>\n",
       "      <td>23.0</td>\n",
       "      <td>...</td>\n",
       "      <td>3</td>\n",
       "      <td>12/30/1899 1:04:36 AM</td>\n",
       "      <td>M</td>\n",
       "      <td>Osako, Suguru</td>\n",
       "      <td>1</td>\n",
       "      <td>12/30/1899 2:10:28 AM</td>\n",
       "      <td>3</td>\n",
       "      <td>12/30/1899 12:04:59 AM</td>\n",
       "      <td>NaN</td>\n",
       "      <td>NaN</td>\n",
       "    </tr>\n",
       "    <tr>\n",
       "      <th>3</th>\n",
       "      <td>12/30/1899 12:30:29 AM</td>\n",
       "      <td>12/30/1899 12:45:44 AM</td>\n",
       "      <td>12/30/1899 1:01:19 AM</td>\n",
       "      <td>12/30/1899 1:17:00 AM</td>\n",
       "      <td>12/30/1899 1:33:01 AM</td>\n",
       "      <td>12/30/1899 1:48:58 AM</td>\n",
       "      <td>12/30/1899 2:04:35 AM</td>\n",
       "      <td>12/30/1899 12:15:25 AM</td>\n",
       "      <td>32</td>\n",
       "      <td>21.0</td>\n",
       "      <td>...</td>\n",
       "      <td>4</td>\n",
       "      <td>12/30/1899 1:04:45 AM</td>\n",
       "      <td>M</td>\n",
       "      <td>Biwott, Shadrack</td>\n",
       "      <td>1</td>\n",
       "      <td>12/30/1899 2:12:08 AM</td>\n",
       "      <td>4</td>\n",
       "      <td>12/30/1899 12:05:03 AM</td>\n",
       "      <td>CA</td>\n",
       "      <td>NaN</td>\n",
       "    </tr>\n",
       "    <tr>\n",
       "      <th>4</th>\n",
       "      <td>12/30/1899 12:30:28 AM</td>\n",
       "      <td>12/30/1899 12:45:44 AM</td>\n",
       "      <td>12/30/1899 1:01:15 AM</td>\n",
       "      <td>12/30/1899 1:16:59 AM</td>\n",
       "      <td>12/30/1899 1:33:01 AM</td>\n",
       "      <td>12/30/1899 1:48:41 AM</td>\n",
       "      <td>12/30/1899 2:05:00 AM</td>\n",
       "      <td>12/30/1899 12:15:25 AM</td>\n",
       "      <td>31</td>\n",
       "      <td>9.0</td>\n",
       "      <td>...</td>\n",
       "      <td>5</td>\n",
       "      <td>12/30/1899 1:04:35 AM</td>\n",
       "      <td>M</td>\n",
       "      <td>Chebet, Wilson</td>\n",
       "      <td>1</td>\n",
       "      <td>12/30/1899 2:12:35 AM</td>\n",
       "      <td>5</td>\n",
       "      <td>12/30/1899 12:05:04 AM</td>\n",
       "      <td>NaN</td>\n",
       "      <td>NaN</td>\n",
       "    </tr>\n",
       "    <tr>\n",
       "      <th>...</th>\n",
       "      <td>...</td>\n",
       "      <td>...</td>\n",
       "      <td>...</td>\n",
       "      <td>...</td>\n",
       "      <td>...</td>\n",
       "      <td>...</td>\n",
       "      <td>...</td>\n",
       "      <td>...</td>\n",
       "      <td>...</td>\n",
       "      <td>...</td>\n",
       "      <td>...</td>\n",
       "      <td>...</td>\n",
       "      <td>...</td>\n",
       "      <td>...</td>\n",
       "      <td>...</td>\n",
       "      <td>...</td>\n",
       "      <td>...</td>\n",
       "      <td>...</td>\n",
       "      <td>...</td>\n",
       "      <td>...</td>\n",
       "      <td>...</td>\n",
       "    </tr>\n",
       "    <tr>\n",
       "      <th>26405</th>\n",
       "      <td>12/30/1899 1:35:41 AM</td>\n",
       "      <td>12/30/1899 2:23:35 AM</td>\n",
       "      <td>12/30/1899 3:12:44 AM</td>\n",
       "      <td>12/30/1899 4:12:06 AM</td>\n",
       "      <td>12/30/1899 5:03:08 AM</td>\n",
       "      <td>12/30/1899 5:55:18 AM</td>\n",
       "      <td>12/30/1899 6:46:57 AM</td>\n",
       "      <td>12/30/1899 12:46:44 AM</td>\n",
       "      <td>61</td>\n",
       "      <td>25166.0</td>\n",
       "      <td>...</td>\n",
       "      <td>11972</td>\n",
       "      <td>12/30/1899 3:23:31 AM</td>\n",
       "      <td>F</td>\n",
       "      <td>Steinbach, Paula Eyvonne</td>\n",
       "      <td>1</td>\n",
       "      <td>12/30/1899 7:09:39 AM</td>\n",
       "      <td>26407</td>\n",
       "      <td>12/30/1899 12:16:24 AM</td>\n",
       "      <td>CA</td>\n",
       "      <td>NaN</td>\n",
       "    </tr>\n",
       "    <tr>\n",
       "      <th>26406</th>\n",
       "      <td>12/30/1899 1:05:33 AM</td>\n",
       "      <td>12/30/1899 1:52:17 AM</td>\n",
       "      <td>12/30/1899 2:49:41 AM</td>\n",
       "      <td>12/30/1899 3:50:19 AM</td>\n",
       "      <td>12/30/1899 4:50:01 AM</td>\n",
       "      <td>12/30/1899 5:53:48 AM</td>\n",
       "      <td>12/30/1899 6:54:21 AM</td>\n",
       "      <td>12/30/1899 12:32:03 AM</td>\n",
       "      <td>25</td>\n",
       "      <td>25178.0</td>\n",
       "      <td>...</td>\n",
       "      <td>14436</td>\n",
       "      <td>12/30/1899 3:00:26 AM</td>\n",
       "      <td>M</td>\n",
       "      <td>Avelino, Andrew R.</td>\n",
       "      <td>1</td>\n",
       "      <td>12/30/1899 7:16:59 AM</td>\n",
       "      <td>26408</td>\n",
       "      <td>12/30/1899 12:16:40 AM</td>\n",
       "      <td>NC</td>\n",
       "      <td>NaN</td>\n",
       "    </tr>\n",
       "    <tr>\n",
       "      <th>26407</th>\n",
       "      <td>12/30/1899 1:43:36 AM</td>\n",
       "      <td>12/30/1899 2:32:36 AM</td>\n",
       "      <td>NaN</td>\n",
       "      <td>12/30/1899 4:15:21 AM</td>\n",
       "      <td>12/30/1899 5:06:37 AM</td>\n",
       "      <td>12/30/1899 6:00:33 AM</td>\n",
       "      <td>12/30/1899 6:54:38 AM</td>\n",
       "      <td>12/30/1899 12:53:11 AM</td>\n",
       "      <td>57</td>\n",
       "      <td>27086.0</td>\n",
       "      <td>...</td>\n",
       "      <td>11973</td>\n",
       "      <td>12/30/1899 3:36:24 AM</td>\n",
       "      <td>F</td>\n",
       "      <td>Hantel, Johanna</td>\n",
       "      <td>1</td>\n",
       "      <td>12/30/1899 7:19:37 AM</td>\n",
       "      <td>26409</td>\n",
       "      <td>12/30/1899 12:16:47 AM</td>\n",
       "      <td>PA</td>\n",
       "      <td>NaN</td>\n",
       "    </tr>\n",
       "    <tr>\n",
       "      <th>26408</th>\n",
       "      <td>12/30/1899 1:27:19 AM</td>\n",
       "      <td>12/30/1899 2:17:17 AM</td>\n",
       "      <td>12/30/1899 3:11:40 AM</td>\n",
       "      <td>12/30/1899 4:06:10 AM</td>\n",
       "      <td>12/30/1899 5:07:09 AM</td>\n",
       "      <td>12/30/1899 6:06:07 AM</td>\n",
       "      <td>12/30/1899 6:56:08 AM</td>\n",
       "      <td>12/30/1899 12:40:34 AM</td>\n",
       "      <td>64</td>\n",
       "      <td>25268.0</td>\n",
       "      <td>...</td>\n",
       "      <td>14437</td>\n",
       "      <td>12/30/1899 3:22:30 AM</td>\n",
       "      <td>M</td>\n",
       "      <td>Reilly, Bill</td>\n",
       "      <td>1</td>\n",
       "      <td>12/30/1899 7:20:44 AM</td>\n",
       "      <td>26410</td>\n",
       "      <td>12/30/1899 12:16:49 AM</td>\n",
       "      <td>NY</td>\n",
       "      <td>NaN</td>\n",
       "    </tr>\n",
       "    <tr>\n",
       "      <th>26409</th>\n",
       "      <td>12/30/1899 1:17:12 AM</td>\n",
       "      <td>12/30/1899 2:00:10 AM</td>\n",
       "      <td>12/30/1899 2:58:55 AM</td>\n",
       "      <td>12/30/1899 4:27:14 AM</td>\n",
       "      <td>12/30/1899 5:37:13 AM</td>\n",
       "      <td>12/30/1899 6:39:07 AM</td>\n",
       "      <td>12/30/1899 7:41:23 AM</td>\n",
       "      <td>12/30/1899 12:39:36 AM</td>\n",
       "      <td>48</td>\n",
       "      <td>25266.0</td>\n",
       "      <td>...</td>\n",
       "      <td>14438</td>\n",
       "      <td>12/30/1899 3:08:16 AM</td>\n",
       "      <td>M</td>\n",
       "      <td>Rigsby, Scott</td>\n",
       "      <td>1</td>\n",
       "      <td>12/30/1899 7:58:14 AM</td>\n",
       "      <td>26411</td>\n",
       "      <td>12/30/1899 12:18:15 AM</td>\n",
       "      <td>GA</td>\n",
       "      <td>NaN</td>\n",
       "    </tr>\n",
       "  </tbody>\n",
       "</table>\n",
       "<p>26410 rows × 27 columns</p>\n",
       "</div>"
      ],
      "text/plain": [
       "                          10K                     15K                    20K  \\\n",
       "0      12/30/1899 12:30:28 AM  12/30/1899 12:45:44 AM  12/30/1899 1:01:15 AM   \n",
       "1      12/30/1899 12:30:27 AM  12/30/1899 12:45:44 AM  12/30/1899 1:01:15 AM   \n",
       "2      12/30/1899 12:30:29 AM  12/30/1899 12:45:44 AM  12/30/1899 1:01:16 AM   \n",
       "3      12/30/1899 12:30:29 AM  12/30/1899 12:45:44 AM  12/30/1899 1:01:19 AM   \n",
       "4      12/30/1899 12:30:28 AM  12/30/1899 12:45:44 AM  12/30/1899 1:01:15 AM   \n",
       "...                       ...                     ...                    ...   \n",
       "26405   12/30/1899 1:35:41 AM   12/30/1899 2:23:35 AM  12/30/1899 3:12:44 AM   \n",
       "26406   12/30/1899 1:05:33 AM   12/30/1899 1:52:17 AM  12/30/1899 2:49:41 AM   \n",
       "26407   12/30/1899 1:43:36 AM   12/30/1899 2:32:36 AM                    NaN   \n",
       "26408   12/30/1899 1:27:19 AM   12/30/1899 2:17:17 AM  12/30/1899 3:11:40 AM   \n",
       "26409   12/30/1899 1:17:12 AM   12/30/1899 2:00:10 AM  12/30/1899 2:58:55 AM   \n",
       "\n",
       "                         25K                    30K                    35K  \\\n",
       "0      12/30/1899 1:16:59 AM  12/30/1899 1:33:01 AM  12/30/1899 1:48:19 AM   \n",
       "1      12/30/1899 1:16:59 AM  12/30/1899 1:33:01 AM  12/30/1899 1:48:19 AM   \n",
       "2      12/30/1899 1:17:00 AM  12/30/1899 1:33:01 AM  12/30/1899 1:48:31 AM   \n",
       "3      12/30/1899 1:17:00 AM  12/30/1899 1:33:01 AM  12/30/1899 1:48:58 AM   \n",
       "4      12/30/1899 1:16:59 AM  12/30/1899 1:33:01 AM  12/30/1899 1:48:41 AM   \n",
       "...                      ...                    ...                    ...   \n",
       "26405  12/30/1899 4:12:06 AM  12/30/1899 5:03:08 AM  12/30/1899 5:55:18 AM   \n",
       "26406  12/30/1899 3:50:19 AM  12/30/1899 4:50:01 AM  12/30/1899 5:53:48 AM   \n",
       "26407  12/30/1899 4:15:21 AM  12/30/1899 5:06:37 AM  12/30/1899 6:00:33 AM   \n",
       "26408  12/30/1899 4:06:10 AM  12/30/1899 5:07:09 AM  12/30/1899 6:06:07 AM   \n",
       "26409  12/30/1899 4:27:14 AM  12/30/1899 5:37:13 AM  12/30/1899 6:39:07 AM   \n",
       "\n",
       "                         40K                      5K  Age      Bib  ...  \\\n",
       "0      12/30/1899 2:02:53 AM  12/30/1899 12:15:25 AM   24     11.0  ...   \n",
       "1      12/30/1899 2:03:14 AM  12/30/1899 12:15:24 AM   30     17.0  ...   \n",
       "2      12/30/1899 2:03:38 AM  12/30/1899 12:15:25 AM   25     23.0  ...   \n",
       "3      12/30/1899 2:04:35 AM  12/30/1899 12:15:25 AM   32     21.0  ...   \n",
       "4      12/30/1899 2:05:00 AM  12/30/1899 12:15:25 AM   31      9.0  ...   \n",
       "...                      ...                     ...  ...      ...  ...   \n",
       "26405  12/30/1899 6:46:57 AM  12/30/1899 12:46:44 AM   61  25166.0  ...   \n",
       "26406  12/30/1899 6:54:21 AM  12/30/1899 12:32:03 AM   25  25178.0  ...   \n",
       "26407  12/30/1899 6:54:38 AM  12/30/1899 12:53:11 AM   57  27086.0  ...   \n",
       "26408  12/30/1899 6:56:08 AM  12/30/1899 12:40:34 AM   64  25268.0  ...   \n",
       "26409  12/30/1899 7:41:23 AM  12/30/1899 12:39:36 AM   48  25266.0  ...   \n",
       "\n",
       "       Gender                   Half  M/F                 Last Name  \\\n",
       "0           1  12/30/1899 1:04:35 AM    M           Kirui, Geoffrey   \n",
       "1           2  12/30/1899 1:04:35 AM    M               Rupp, Galen   \n",
       "2           3  12/30/1899 1:04:36 AM    M             Osako, Suguru   \n",
       "3           4  12/30/1899 1:04:45 AM    M          Biwott, Shadrack   \n",
       "4           5  12/30/1899 1:04:35 AM    M            Chebet, Wilson   \n",
       "...       ...                    ...  ...                       ...   \n",
       "26405   11972  12/30/1899 3:23:31 AM    F  Steinbach, Paula Eyvonne   \n",
       "26406   14436  12/30/1899 3:00:26 AM    M        Avelino, Andrew R.   \n",
       "26407   11973  12/30/1899 3:36:24 AM    F           Hantel, Johanna   \n",
       "26408   14437  12/30/1899 3:22:30 AM    M              Reilly, Bill   \n",
       "26409   14438  12/30/1899 3:08:16 AM    M             Rigsby, Scott   \n",
       "\n",
       "       First Name      Number of Records  Official Time  \\\n",
       "0               1  12/30/1899 2:09:37 AM              1   \n",
       "1               1  12/30/1899 2:09:58 AM              2   \n",
       "2               1  12/30/1899 2:10:28 AM              3   \n",
       "3               1  12/30/1899 2:12:08 AM              4   \n",
       "4               1  12/30/1899 2:12:35 AM              5   \n",
       "...           ...                    ...            ...   \n",
       "26405           1  12/30/1899 7:09:39 AM          26407   \n",
       "26406           1  12/30/1899 7:16:59 AM          26408   \n",
       "26407           1  12/30/1899 7:19:37 AM          26409   \n",
       "26408           1  12/30/1899 7:20:44 AM          26410   \n",
       "26409           1  12/30/1899 7:58:14 AM          26411   \n",
       "\n",
       "                      Overall Pace State  \n",
       "0      12/30/1899 12:04:57 AM  NaN   NaN  \n",
       "1      12/30/1899 12:04:58 AM   OR   NaN  \n",
       "2      12/30/1899 12:04:59 AM  NaN   NaN  \n",
       "3      12/30/1899 12:05:03 AM   CA   NaN  \n",
       "4      12/30/1899 12:05:04 AM  NaN   NaN  \n",
       "...                       ...  ...   ...  \n",
       "26405  12/30/1899 12:16:24 AM   CA   NaN  \n",
       "26406  12/30/1899 12:16:40 AM   NC   NaN  \n",
       "26407  12/30/1899 12:16:47 AM   PA   NaN  \n",
       "26408  12/30/1899 12:16:49 AM   NY   NaN  \n",
       "26409  12/30/1899 12:18:15 AM   GA   NaN  \n",
       "\n",
       "[26410 rows x 27 columns]"
      ]
     },
     "execution_count": 6,
     "metadata": {},
     "output_type": "execute_result"
    }
   ],
   "source": [
    "# pd.set_option('display.max_columns', None)\n",
    "# pd.set_option('display.max_rows', None)\n",
    "\n",
    "marathon = pd.read_csv('../day1/boston_marathon2017_edited.csv', sep = ',')\n",
    "marathon"
   ]
  },
  {
   "cell_type": "markdown",
   "metadata": {},
   "source": [
    "### In-Class Exercise #1 - Read in the Spotify CSV<br>\n",
    "<p>Use the pandas read_csv() method to read in the stats about the top 100 streamed songs on spotify.</p>"
   ]
  },
  {
   "cell_type": "code",
   "execution_count": null,
   "metadata": {},
   "outputs": [],
   "source": []
  },
  {
   "cell_type": "markdown",
   "metadata": {},
   "source": [
    "### Built-In Methods <br>\n",
    "\n",
    "<p>These are methods that are frequently used when using Pandas to make your life easier. It is possible to spend a whole week simply exploring the built-in functions supported by DataFrames in Pandas. Here however, we will simply highlight a few ones that might be useful, to give you an idea of what's possible out of the box with Pandas:</p>"
   ]
  },
  {
   "cell_type": "markdown",
   "metadata": {},
   "source": [
    "##### head()"
   ]
  },
  {
   "cell_type": "code",
   "execution_count": 7,
   "metadata": {
    "scrolled": true
   },
   "outputs": [
    {
     "ename": "NameError",
     "evalue": "name 'spotify' is not defined",
     "output_type": "error",
     "traceback": [
      "\u001b[1;31m---------------------------------------------------------------------------\u001b[0m",
      "\u001b[1;31mNameError\u001b[0m                                 Traceback (most recent call last)",
      "\u001b[1;32m<ipython-input-7-2fd3cac2491a>\u001b[0m in \u001b[0;36m<module>\u001b[1;34m\u001b[0m\n\u001b[0;32m      1\u001b[0m \u001b[1;31m# DataFrame.head()  -- Accepts integer parameter(gives access to more rows)\u001b[0m\u001b[1;33m\u001b[0m\u001b[1;33m\u001b[0m\u001b[1;33m\u001b[0m\u001b[0m\n\u001b[1;32m----> 2\u001b[1;33m \u001b[0mspotify\u001b[0m\u001b[1;33m.\u001b[0m\u001b[0mhead\u001b[0m\u001b[1;33m(\u001b[0m\u001b[1;33m)\u001b[0m\u001b[1;33m\u001b[0m\u001b[1;33m\u001b[0m\u001b[0m\n\u001b[0m",
      "\u001b[1;31mNameError\u001b[0m: name 'spotify' is not defined"
     ]
    }
   ],
   "source": [
    "# DataFrame.head()  -- Accepts integer parameter(gives access to more rows)\n",
    "spotify.head()"
   ]
  },
  {
   "cell_type": "markdown",
   "metadata": {},
   "source": [
    "##### tail()"
   ]
  },
  {
   "cell_type": "code",
   "execution_count": null,
   "metadata": {
    "scrolled": false
   },
   "outputs": [],
   "source": [
    "# DataFrame.tail()  -- Accepts integer parameter(gives access to more rows)\n",
    "spotify.tail()"
   ]
  },
  {
   "cell_type": "markdown",
   "metadata": {},
   "source": [
    "##### shape"
   ]
  },
  {
   "cell_type": "code",
   "execution_count": null,
   "metadata": {},
   "outputs": [],
   "source": [
    "# The dataframe has a shape property, just like a NumPy matrix. \n",
    "# print(df.shape) -- DataFrame.shape -- No Parameter\n",
    "print(data.shape)\n",
    "print(spotify.shape)"
   ]
  },
  {
   "cell_type": "markdown",
   "metadata": {},
   "source": [
    "##### keys()"
   ]
  },
  {
   "cell_type": "code",
   "execution_count": null,
   "metadata": {},
   "outputs": [],
   "source": [
    "# Access all of the keys/columns of the dataframe\n",
    "# Dataframe.keys()\n",
    "\n",
    "print(spotify.keys())\n",
    "print(type(spotify.keys()))\n",
    "print(type(spotify.keys().tolist()))"
   ]
  },
  {
   "cell_type": "markdown",
   "metadata": {},
   "source": [
    "##### describe() <br>\n",
    "<p>Probably one of the most important methods to understand...</p>"
   ]
  },
  {
   "cell_type": "code",
   "execution_count": null,
   "metadata": {},
   "outputs": [],
   "source": [
    "# Collect summary statistics in one line\n",
    "# DataFrame.describe() -- Accepts parameters (include, exclude)\n",
    "spotify.describe()"
   ]
  },
  {
   "cell_type": "code",
   "execution_count": null,
   "metadata": {},
   "outputs": [],
   "source": [
    "spotify.describe(include='all')"
   ]
  },
  {
   "cell_type": "markdown",
   "metadata": {},
   "source": [
    "##### sort_values()"
   ]
  },
  {
   "cell_type": "code",
   "execution_count": null,
   "metadata": {},
   "outputs": [],
   "source": [
    "# Sort based on many labels, with left-to-right priority\n",
    "# sorted_data = data.sort_values('ages').reset_index()\n",
    "\n",
    "# DataFrame.sort_values('key')\n",
    "\n",
    "sorted_data = data.sort_values('ages', kind='mergesort')\n",
    "\n",
    "sorted_data.reset_index(drop=True)"
   ]
  },
  {
   "cell_type": "markdown",
   "metadata": {},
   "source": [
    "##### .columns"
   ]
  },
  {
   "cell_type": "code",
   "execution_count": null,
   "metadata": {},
   "outputs": [],
   "source": [
    "# will show all cols headers\n",
    "# DataFrame.columns is an attribute\n",
    "print(spotify.columns)\n",
    "print(f\"Columns Type: {type(spotify.columns)}\")\n",
    "\n",
    "print('\\n')\n",
    "\n",
    "print(spotify.keys())\n",
    "print(f\"Keys Type: {type(spotify.keys())}\")"
   ]
  },
  {
   "cell_type": "markdown",
   "metadata": {},
   "source": [
    "### Accessing Data <br>"
   ]
  },
  {
   "cell_type": "markdown",
   "metadata": {},
   "source": [
    "##### Indexing\n",
    "\n",
    "<p>You can directly select a column of a dataframe just like you would a dict. The result is a Pandas 'Series' object.</p>"
   ]
  },
  {
   "cell_type": "code",
   "execution_count": null,
   "metadata": {},
   "outputs": [],
   "source": [
    "# We are working with a Pandas DataFrame\n",
    "print(type(spotify))\n",
    "\n",
    "# Index a column of the dataframe - df['column_name']\n",
    "title = spotify['title']\n",
    "print(title)\n",
    "# Results in a Pandas Series\n",
    "print(type(title))"
   ]
  },
  {
   "cell_type": "code",
   "execution_count": null,
   "metadata": {},
   "outputs": [],
   "source": [
    "# Index the Series object - Series[index] 0-based\n",
    "print(title[10])\n",
    "\n",
    "# String together - df[key][index]\n",
    "print(spotify['title'][10])"
   ]
  },
  {
   "cell_type": "markdown",
   "metadata": {},
   "source": [
    "#### Accessing Multiple Columns"
   ]
  },
  {
   "cell_type": "code",
   "execution_count": null,
   "metadata": {
    "scrolled": true
   },
   "outputs": [],
   "source": [
    "title_artist = spotify[['title', 'artist']]\n",
    "title_artist"
   ]
  },
  {
   "cell_type": "code",
   "execution_count": null,
   "metadata": {},
   "outputs": [],
   "source": [
    "print(type(title_artist))\n",
    "title_artist.tail()"
   ]
  },
  {
   "cell_type": "code",
   "execution_count": null,
   "metadata": {},
   "outputs": [],
   "source": [
    "spotify[['title', 'artist']][24:50]"
   ]
  },
  {
   "cell_type": "markdown",
   "metadata": {},
   "source": [
    "##### df.loc"
   ]
  },
  {
   "cell_type": "markdown",
   "metadata": {},
   "source": [
    "<p>Along the horizontal dimension, rows of Pandas DataFrames are Row objects. You will notice there is a third column present in the DataFrame - this is the $\\textit{index}$. It is automatically generated as a row number, but can be reassigned to a column of your choice using the DataFrame.set_index(colname) method. We can use it to access particular Pandas $\\textit{rows}$, which are also Series objects:</p>"
   ]
  },
  {
   "cell_type": "code",
   "execution_count": null,
   "metadata": {},
   "outputs": [],
   "source": [
    "data"
   ]
  },
  {
   "cell_type": "code",
   "execution_count": null,
   "metadata": {},
   "outputs": [],
   "source": [
    "# Grab the row of data with an index label of 0\n",
    "print(data.loc[0])"
   ]
  },
  {
   "cell_type": "code",
   "execution_count": null,
   "metadata": {},
   "outputs": [],
   "source": [
    "sorted_data = data.sort_values('ages', kind='mergesort')\n",
    "sorted_data"
   ]
  },
  {
   "cell_type": "code",
   "execution_count": null,
   "metadata": {},
   "outputs": [],
   "source": [
    "# Grab the row of data with an index label of 0\n",
    "print(sorted_data.loc[0])\n",
    "\n",
    "# Notice this is the same as before. We are not grabbing the 0-index of the df, but instead the row with 0 as the label"
   ]
  },
  {
   "cell_type": "code",
   "execution_count": null,
   "metadata": {},
   "outputs": [],
   "source": [
    "# Access multiple rows by an array of label names\n",
    "print(data.loc[[0,3,5]])\n",
    "\n",
    "# Access multiple rows by a slice of labels \n",
    "print(data.loc[2:6])\n",
    "\n",
    "# Notice the stop is inclusive when we use .loc"
   ]
  },
  {
   "cell_type": "code",
   "execution_count": null,
   "metadata": {},
   "outputs": [],
   "source": [
    "random_ones_zeros = [np.random.randint(0,2) for i in range(len(data))]\n",
    "random_bools = np.array(random_ones_zeros).astype(bool)\n",
    "print(random_bools)\n",
    "data.loc[np.array(random_bools).astype(bool)]"
   ]
  },
  {
   "cell_type": "code",
   "execution_count": null,
   "metadata": {
    "scrolled": true
   },
   "outputs": [],
   "source": [
    "new_index_df = data.set_index('names')\n",
    "new_index_df"
   ]
  },
  {
   "cell_type": "code",
   "execution_count": null,
   "metadata": {},
   "outputs": [],
   "source": [
    "# print(new_index_df.loc[0])\n",
    "print(new_index_df.loc['James'])\n",
    "print('===============================')\n",
    "print(new_index_df.loc[['James', 'John', 'Lauren']])\n",
    "print('===============================')\n",
    "print(new_index_df.loc['James':'Richard'])"
   ]
  },
  {
   "cell_type": "markdown",
   "metadata": {},
   "source": [
    "##### df.iloc\n",
    "<p>df.iloc is purely integer-location based indexing for selection by position.</p>"
   ]
  },
  {
   "cell_type": "code",
   "execution_count": null,
   "metadata": {},
   "outputs": [],
   "source": [
    "data"
   ]
  },
  {
   "cell_type": "code",
   "execution_count": null,
   "metadata": {},
   "outputs": [],
   "source": [
    "print(data.iloc[0])"
   ]
  },
  {
   "cell_type": "code",
   "execution_count": null,
   "metadata": {},
   "outputs": [],
   "source": [
    "sorted_data"
   ]
  },
  {
   "cell_type": "code",
   "execution_count": null,
   "metadata": {},
   "outputs": [],
   "source": [
    "print(sorted_data.iloc[0])"
   ]
  },
  {
   "cell_type": "code",
   "execution_count": null,
   "metadata": {
    "scrolled": true
   },
   "outputs": [],
   "source": [
    "new_index_df"
   ]
  },
  {
   "cell_type": "code",
   "execution_count": null,
   "metadata": {},
   "outputs": [],
   "source": [
    "print(new_index_df.iloc[2:7])"
   ]
  },
  {
   "cell_type": "markdown",
   "metadata": {},
   "source": [
    "### In-Class Exercise #2 - Most Upbeat Songs in Top 100 <br>\n",
    "<p>Return back a dataframe showing the Title, Artist, Year and Beats Per Minute for the 10 most upbeat songs (as determined by BPM)</p>"
   ]
  },
  {
   "cell_type": "code",
   "execution_count": null,
   "metadata": {},
   "outputs": [],
   "source": []
  },
  {
   "cell_type": "markdown",
   "metadata": {},
   "source": [
    "### Filtration <br>\n",
    "<p>Let's look at how to filter dataframes for rows that fulfill a specific conditon.</p>"
   ]
  },
  {
   "cell_type": "markdown",
   "metadata": {},
   "source": [
    "##### Conditionals"
   ]
  },
  {
   "cell_type": "code",
   "execution_count": null,
   "metadata": {},
   "outputs": [],
   "source": [
    "# Conditional boolean dataframe\n",
    "data['ages'] >= 25"
   ]
  },
  {
   "cell_type": "markdown",
   "metadata": {},
   "source": [
    "##### Subsetting"
   ]
  },
  {
   "cell_type": "code",
   "execution_count": null,
   "metadata": {},
   "outputs": [],
   "source": [
    "# exactly like numpy\n",
    "data[data['ages'] >= 25]"
   ]
  },
  {
   "cell_type": "markdown",
   "metadata": {},
   "source": [
    "### Column Transformations <br>\n",
    "<p>Rarely, if ever, will the columns in the original raw dataframe read from CSV or database table be the ones you actually need for your analysis. You will spend lots of time constantly transforming columns or groups of columns using general computational operations to produce new ones that are functions of the old ones. Pandas has full support for this: Consider the following fake dataframe containing member since year and the yearly dues for member:</p>"
   ]
  },
  {
   "cell_type": "code",
   "execution_count": null,
   "metadata": {},
   "outputs": [],
   "source": [
    "pay_options = {\n",
    "    0: 100,\n",
    "    1: 150,\n",
    "    2: 200\n",
    "}\n",
    "membership = {\n",
    "    'member_id': [np.random.randint(1000,2000) for i in range(20)],\n",
    "    'member_since': [np.random.randint(1990,2021) for i in range(20)],\n",
    "    'yearly_dues': [pay_options[np.random.randint(0,3)] for i in range(20)]\n",
    "}\n",
    "\n",
    "customers = pd.DataFrame.from_dict(membership)"
   ]
  },
  {
   "cell_type": "code",
   "execution_count": null,
   "metadata": {},
   "outputs": [],
   "source": [
    "customers"
   ]
  },
  {
   "cell_type": "markdown",
   "metadata": {},
   "source": [
    "##### Generating a New Column w/Data"
   ]
  },
  {
   "cell_type": "code",
   "execution_count": null,
   "metadata": {},
   "outputs": [],
   "source": [
    "# DataFrame['key'] = Some Calculation from our DataFrame Columns\n",
    "customers['customer_tenure'] = 2021 - customers['member_since']\n",
    "customers"
   ]
  },
  {
   "cell_type": "code",
   "execution_count": null,
   "metadata": {},
   "outputs": [],
   "source": [
    "customers['total_paid'] = customers['yearly_dues'] * customers['customer_tenure']\n",
    "customers"
   ]
  },
  {
   "cell_type": "markdown",
   "metadata": {},
   "source": [
    "##### User Defined Function\n",
    "\n",
    "<p>If what you want to do to a column that can't be represented by simple mathematical operations, you can write your own $\\textit{user defined function}$ with the full customizability available in Python and any external Python packages, then map it directly onto a column or row. Let's create a function that will return the loyalty status of a member based on their customer tenure. We will then apply that function to each row in our dataframe using the .apply() method:</p>"
   ]
  },
  {
   "cell_type": "code",
   "execution_count": null,
   "metadata": {},
   "outputs": [],
   "source": [
    "def member_loyalty_status(row):\n",
    "    if row['customer_tenure'] > 15:\n",
    "        return 'Platinum'\n",
    "    elif row['customer_tenure'] > 10:\n",
    "        return 'Gold'\n",
    "    elif row['customer_tenure'] > 5:\n",
    "        return 'Silver'\n",
    "    else:\n",
    "        return 'Newbie'\n",
    "\n",
    "customers['loyalty_status'] = customers.apply(member_loyalty_status, axis=1)\n",
    "customers"
   ]
  },
  {
   "cell_type": "markdown",
   "metadata": {},
   "source": [
    "### In-Class Exercise #3 - Create Your Own UDF <br>\n",
    "<p>Using the Spotify data, create your own UDF which creates a new column called 'Banger' and puts every song with either an energy over 65 or danceability over 70 with a result of 'Yes' in the column if it is and 'No' if it is not.</p>"
   ]
  },
  {
   "cell_type": "code",
   "execution_count": 1,
   "metadata": {},
   "outputs": [
    {
     "ename": "NameError",
     "evalue": "name 'spotify' is not defined",
     "output_type": "error",
     "traceback": [
      "\u001b[1;31m---------------------------------------------------------------------------\u001b[0m",
      "\u001b[1;31mNameError\u001b[0m                                 Traceback (most recent call last)",
      "\u001b[1;32m<ipython-input-1-3978dd791a19>\u001b[0m in \u001b[0;36m<module>\u001b[1;34m\u001b[0m\n\u001b[0;32m      4\u001b[0m     \u001b[1;32mreturn\u001b[0m \u001b[1;34m'No'\u001b[0m\u001b[1;33m\u001b[0m\u001b[1;33m\u001b[0m\u001b[0m\n\u001b[0;32m      5\u001b[0m \u001b[1;33m\u001b[0m\u001b[0m\n\u001b[1;32m----> 6\u001b[1;33m \u001b[0mspotify\u001b[0m\u001b[1;33m[\u001b[0m\u001b[1;34m'banger'\u001b[0m\u001b[1;33m]\u001b[0m \u001b[1;33m=\u001b[0m \u001b[0mspotify\u001b[0m\u001b[1;33m.\u001b[0m\u001b[0mapply\u001b[0m\u001b[1;33m(\u001b[0m\u001b[0mis_banger\u001b[0m\u001b[1;33m,\u001b[0m \u001b[0maxis\u001b[0m\u001b[1;33m=\u001b[0m\u001b[1;36m1\u001b[0m\u001b[1;33m)\u001b[0m\u001b[1;33m\u001b[0m\u001b[1;33m\u001b[0m\u001b[0m\n\u001b[0m",
      "\u001b[1;31mNameError\u001b[0m: name 'spotify' is not defined"
     ]
    }
   ],
   "source": [
    "def is_banger(row):\n",
    "    if row['energy'] >= 65 or row['danceability'] >= 70:\n",
    "        return 'Yes'\n",
    "    return 'No'\n",
    "\n",
    "spotify['banger'] = spotify.apply(is_banger, axis=1)"
   ]
  },
  {
   "cell_type": "code",
   "execution_count": 43,
   "metadata": {},
   "outputs": [
    {
     "data": {
      "text/html": [
       "<div>\n",
       "<style scoped>\n",
       "    .dataframe tbody tr th:only-of-type {\n",
       "        vertical-align: middle;\n",
       "    }\n",
       "\n",
       "    .dataframe tbody tr th {\n",
       "        vertical-align: top;\n",
       "    }\n",
       "\n",
       "    .dataframe thead th {\n",
       "        text-align: right;\n",
       "    }\n",
       "</style>\n",
       "<table border=\"1\" class=\"dataframe\">\n",
       "  <thead>\n",
       "    <tr style=\"text-align: right;\">\n",
       "      <th></th>\n",
       "      <th>title</th>\n",
       "      <th>artist</th>\n",
       "      <th>banger</th>\n",
       "    </tr>\n",
       "  </thead>\n",
       "  <tbody>\n",
       "    <tr>\n",
       "      <th>0</th>\n",
       "      <td>Blinding Lights</td>\n",
       "      <td>The Weeknd</td>\n",
       "      <td>No</td>\n",
       "    </tr>\n",
       "    <tr>\n",
       "      <th>1</th>\n",
       "      <td>Watermelon Sugar</td>\n",
       "      <td>Harry Styles</td>\n",
       "      <td>No</td>\n",
       "    </tr>\n",
       "    <tr>\n",
       "      <th>2</th>\n",
       "      <td>Mood (feat. iann dior)</td>\n",
       "      <td>24kGoldn</td>\n",
       "      <td>Yes</td>\n",
       "    </tr>\n",
       "    <tr>\n",
       "      <th>3</th>\n",
       "      <td>Someone You Loved</td>\n",
       "      <td>Lewis Capaldi</td>\n",
       "      <td>No</td>\n",
       "    </tr>\n",
       "    <tr>\n",
       "      <th>4</th>\n",
       "      <td>Perfect</td>\n",
       "      <td>Ed Sheeran</td>\n",
       "      <td>No</td>\n",
       "    </tr>\n",
       "    <tr>\n",
       "      <th>5</th>\n",
       "      <td>Believer</td>\n",
       "      <td>Imagine Dragons</td>\n",
       "      <td>Yes</td>\n",
       "    </tr>\n",
       "    <tr>\n",
       "      <th>6</th>\n",
       "      <td>lovely (with Khalid)</td>\n",
       "      <td>Billie Eilish</td>\n",
       "      <td>No</td>\n",
       "    </tr>\n",
       "    <tr>\n",
       "      <th>7</th>\n",
       "      <td>Circles</td>\n",
       "      <td>Post Malone</td>\n",
       "      <td>Yes</td>\n",
       "    </tr>\n",
       "    <tr>\n",
       "      <th>8</th>\n",
       "      <td>Shape of You</td>\n",
       "      <td>Ed Sheeran</td>\n",
       "      <td>Yes</td>\n",
       "    </tr>\n",
       "    <tr>\n",
       "      <th>9</th>\n",
       "      <td>Memories</td>\n",
       "      <td>Maroon 5</td>\n",
       "      <td>No</td>\n",
       "    </tr>\n",
       "  </tbody>\n",
       "</table>\n",
       "</div>"
      ],
      "text/plain": [
       "                    title           artist banger\n",
       "0         Blinding Lights       The Weeknd     No\n",
       "1        Watermelon Sugar     Harry Styles     No\n",
       "2  Mood (feat. iann dior)         24kGoldn    Yes\n",
       "3       Someone You Loved    Lewis Capaldi     No\n",
       "4                 Perfect       Ed Sheeran     No\n",
       "5                Believer  Imagine Dragons    Yes\n",
       "6    lovely (with Khalid)    Billie Eilish     No\n",
       "7                 Circles      Post Malone    Yes\n",
       "8            Shape of You       Ed Sheeran    Yes\n",
       "9                Memories         Maroon 5     No"
      ]
     },
     "execution_count": 43,
     "metadata": {},
     "output_type": "execute_result"
    }
   ],
   "source": [
    "spotify.head(10)[['title', 'artist', 'banger']]"
   ]
  },
  {
   "cell_type": "markdown",
   "metadata": {},
   "source": [
    "### Aggregations <br>\n",
    "<p>The raw data plus some transformations is generally only half the story. Your objective is to extract actual insights and actionable conclusions from the data, and that means reducing it from potentially billions of rows to some summary statistics via aggregation functions.</p>"
   ]
  },
  {
   "cell_type": "markdown",
   "metadata": {},
   "source": [
    "##### groupby() <br>\n",
    "<p>The .groupby() function is in some ways a 'master' aggregation.</p> \n",
    "\n",
    "<p>Data tables will usually reserve one column as a primary key - that is, a column for which each row has a unique value. This is to facilitate access to the exact rows of a data table that a user wants to view. The other columns will often have repeated values, such as the age groups in the above examples. We can use these columns to explore the data using the Pandas API:</p>"
   ]
  },
  {
   "cell_type": "code",
   "execution_count": 44,
   "metadata": {},
   "outputs": [
    {
     "data": {
      "text/html": [
       "<div>\n",
       "<style scoped>\n",
       "    .dataframe tbody tr th:only-of-type {\n",
       "        vertical-align: middle;\n",
       "    }\n",
       "\n",
       "    .dataframe tbody tr th {\n",
       "        vertical-align: top;\n",
       "    }\n",
       "\n",
       "    .dataframe thead th {\n",
       "        text-align: right;\n",
       "    }\n",
       "</style>\n",
       "<table border=\"1\" class=\"dataframe\">\n",
       "  <thead>\n",
       "    <tr style=\"text-align: right;\">\n",
       "      <th></th>\n",
       "      <th>member_id</th>\n",
       "      <th>member_since</th>\n",
       "      <th>yearly_dues</th>\n",
       "      <th>customer_tenure</th>\n",
       "      <th>total_paid</th>\n",
       "    </tr>\n",
       "    <tr>\n",
       "      <th>loyalty_status</th>\n",
       "      <th></th>\n",
       "      <th></th>\n",
       "      <th></th>\n",
       "      <th></th>\n",
       "      <th></th>\n",
       "    </tr>\n",
       "  </thead>\n",
       "  <tbody>\n",
       "    <tr>\n",
       "      <th>Gold</th>\n",
       "      <td>4</td>\n",
       "      <td>4</td>\n",
       "      <td>4</td>\n",
       "      <td>4</td>\n",
       "      <td>4</td>\n",
       "    </tr>\n",
       "    <tr>\n",
       "      <th>Newbie</th>\n",
       "      <td>4</td>\n",
       "      <td>4</td>\n",
       "      <td>4</td>\n",
       "      <td>4</td>\n",
       "      <td>4</td>\n",
       "    </tr>\n",
       "    <tr>\n",
       "      <th>Platinum</th>\n",
       "      <td>9</td>\n",
       "      <td>9</td>\n",
       "      <td>9</td>\n",
       "      <td>9</td>\n",
       "      <td>9</td>\n",
       "    </tr>\n",
       "    <tr>\n",
       "      <th>Silver</th>\n",
       "      <td>3</td>\n",
       "      <td>3</td>\n",
       "      <td>3</td>\n",
       "      <td>3</td>\n",
       "      <td>3</td>\n",
       "    </tr>\n",
       "  </tbody>\n",
       "</table>\n",
       "</div>"
      ],
      "text/plain": [
       "                member_id  member_since  yearly_dues  customer_tenure  \\\n",
       "loyalty_status                                                          \n",
       "Gold                    4             4            4                4   \n",
       "Newbie                  4             4            4                4   \n",
       "Platinum                9             9            9                9   \n",
       "Silver                  3             3            3                3   \n",
       "\n",
       "                total_paid  \n",
       "loyalty_status              \n",
       "Gold                     4  \n",
       "Newbie                   4  \n",
       "Platinum                 9  \n",
       "Silver                   3  "
      ]
     },
     "execution_count": 44,
     "metadata": {},
     "output_type": "execute_result"
    }
   ],
   "source": [
    "# also introducing .count() here, exact same as to how it's used in SQL\n",
    "\n",
    "# Using the groupby with the column intact as a column/key\n",
    "\n",
    "customers.groupby('loyalty_status').count()"
   ]
  },
  {
   "cell_type": "code",
   "execution_count": 45,
   "metadata": {},
   "outputs": [
    {
     "data": {
      "text/html": [
       "<div>\n",
       "<style scoped>\n",
       "    .dataframe tbody tr th:only-of-type {\n",
       "        vertical-align: middle;\n",
       "    }\n",
       "\n",
       "    .dataframe tbody tr th {\n",
       "        vertical-align: top;\n",
       "    }\n",
       "\n",
       "    .dataframe thead th {\n",
       "        text-align: right;\n",
       "    }\n",
       "</style>\n",
       "<table border=\"1\" class=\"dataframe\">\n",
       "  <thead>\n",
       "    <tr style=\"text-align: right;\">\n",
       "      <th></th>\n",
       "      <th>loyalty_status</th>\n",
       "      <th>member_id</th>\n",
       "      <th>member_since</th>\n",
       "      <th>yearly_dues</th>\n",
       "      <th>customer_tenure</th>\n",
       "      <th>total_paid</th>\n",
       "    </tr>\n",
       "  </thead>\n",
       "  <tbody>\n",
       "    <tr>\n",
       "      <th>0</th>\n",
       "      <td>Gold</td>\n",
       "      <td>4</td>\n",
       "      <td>4</td>\n",
       "      <td>4</td>\n",
       "      <td>4</td>\n",
       "      <td>4</td>\n",
       "    </tr>\n",
       "    <tr>\n",
       "      <th>1</th>\n",
       "      <td>Newbie</td>\n",
       "      <td>4</td>\n",
       "      <td>4</td>\n",
       "      <td>4</td>\n",
       "      <td>4</td>\n",
       "      <td>4</td>\n",
       "    </tr>\n",
       "    <tr>\n",
       "      <th>2</th>\n",
       "      <td>Platinum</td>\n",
       "      <td>9</td>\n",
       "      <td>9</td>\n",
       "      <td>9</td>\n",
       "      <td>9</td>\n",
       "      <td>9</td>\n",
       "    </tr>\n",
       "    <tr>\n",
       "      <th>3</th>\n",
       "      <td>Silver</td>\n",
       "      <td>3</td>\n",
       "      <td>3</td>\n",
       "      <td>3</td>\n",
       "      <td>3</td>\n",
       "      <td>3</td>\n",
       "    </tr>\n",
       "  </tbody>\n",
       "</table>\n",
       "</div>"
      ],
      "text/plain": [
       "  loyalty_status  member_id  member_since  yearly_dues  customer_tenure  \\\n",
       "0           Gold          4             4            4                4   \n",
       "1         Newbie          4             4            4                4   \n",
       "2       Platinum          9             9            9                9   \n",
       "3         Silver          3             3            3                3   \n",
       "\n",
       "   total_paid  \n",
       "0           4  \n",
       "1           4  \n",
       "2           9  \n",
       "3           3  "
      ]
     },
     "execution_count": 45,
     "metadata": {},
     "output_type": "execute_result"
    }
   ],
   "source": [
    "customers.groupby('loyalty_status', as_index=False).count()"
   ]
  },
  {
   "cell_type": "code",
   "execution_count": null,
   "metadata": {},
   "outputs": [],
   "source": []
  },
  {
   "cell_type": "markdown",
   "metadata": {},
   "source": [
    "##### Type of groupby()\n",
    "\n",
    "<p>The result is a new dataframe, the columns of which all contain the counts of the grouped field. Notice the type of a grouped dataframe:</p>"
   ]
  },
  {
   "cell_type": "code",
   "execution_count": 46,
   "metadata": {},
   "outputs": [
    {
     "name": "stdout",
     "output_type": "stream",
     "text": [
      "<class 'pandas.core.groupby.generic.DataFrameGroupBy'>\n",
      "<class 'pandas.core.frame.DataFrame'>\n"
     ]
    }
   ],
   "source": [
    "print(type(customers.groupby('loyalty_status')))\n",
    "print(type(customers.groupby('loyalty_status').count()))"
   ]
  },
  {
   "cell_type": "markdown",
   "metadata": {},
   "source": [
    "<p>This is because simply grouping data doesn't quite make sense without an aggregation function like count() to pair with. In this case, we're counting occurances of the grouped field, but that's not all we can do. We can take averages, standard deviations, mins, maxes and much more! Let's see how this works a bit more:</p>"
   ]
  },
  {
   "cell_type": "markdown",
   "metadata": {},
   "source": [
    "##### mean()"
   ]
  },
  {
   "cell_type": "code",
   "execution_count": 47,
   "metadata": {},
   "outputs": [
    {
     "data": {
      "text/html": [
       "<div>\n",
       "<style scoped>\n",
       "    .dataframe tbody tr th:only-of-type {\n",
       "        vertical-align: middle;\n",
       "    }\n",
       "\n",
       "    .dataframe tbody tr th {\n",
       "        vertical-align: top;\n",
       "    }\n",
       "\n",
       "    .dataframe thead th {\n",
       "        text-align: right;\n",
       "    }\n",
       "</style>\n",
       "<table border=\"1\" class=\"dataframe\">\n",
       "  <thead>\n",
       "    <tr style=\"text-align: right;\">\n",
       "      <th></th>\n",
       "      <th>customer_tenure</th>\n",
       "      <th>yearly_dues</th>\n",
       "    </tr>\n",
       "    <tr>\n",
       "      <th>loyalty_status</th>\n",
       "      <th></th>\n",
       "      <th></th>\n",
       "    </tr>\n",
       "  </thead>\n",
       "  <tbody>\n",
       "    <tr>\n",
       "      <th>Gold</th>\n",
       "      <td>12.750000</td>\n",
       "      <td>125.000000</td>\n",
       "    </tr>\n",
       "    <tr>\n",
       "      <th>Newbie</th>\n",
       "      <td>2.500000</td>\n",
       "      <td>175.000000</td>\n",
       "    </tr>\n",
       "    <tr>\n",
       "      <th>Platinum</th>\n",
       "      <td>25.000000</td>\n",
       "      <td>144.444444</td>\n",
       "    </tr>\n",
       "    <tr>\n",
       "      <th>Silver</th>\n",
       "      <td>8.333333</td>\n",
       "      <td>133.333333</td>\n",
       "    </tr>\n",
       "  </tbody>\n",
       "</table>\n",
       "</div>"
      ],
      "text/plain": [
       "                customer_tenure  yearly_dues\n",
       "loyalty_status                              \n",
       "Gold                  12.750000   125.000000\n",
       "Newbie                 2.500000   175.000000\n",
       "Platinum              25.000000   144.444444\n",
       "Silver                 8.333333   133.333333"
      ]
     },
     "execution_count": 47,
     "metadata": {},
     "output_type": "execute_result"
    }
   ],
   "source": [
    "# mean = average\n",
    "customers.groupby('loyalty_status').mean()[['customer_tenure', 'yearly_dues']]"
   ]
  },
  {
   "cell_type": "markdown",
   "metadata": {},
   "source": [
    "##### groupby() w/Multiple Columns\n",
    "\n",
    "<p>We end up with the average age of the groups in the last column, the average tenure in the tenure column, and so on and so forth. You can even split the groups more finely by passing a list of columns to group by:</p>"
   ]
  },
  {
   "cell_type": "code",
   "execution_count": 48,
   "metadata": {},
   "outputs": [
    {
     "data": {
      "text/html": [
       "<div>\n",
       "<style scoped>\n",
       "    .dataframe tbody tr th:only-of-type {\n",
       "        vertical-align: middle;\n",
       "    }\n",
       "\n",
       "    .dataframe tbody tr th {\n",
       "        vertical-align: top;\n",
       "    }\n",
       "\n",
       "    .dataframe thead th {\n",
       "        text-align: right;\n",
       "    }\n",
       "</style>\n",
       "<table border=\"1\" class=\"dataframe\">\n",
       "  <thead>\n",
       "    <tr style=\"text-align: right;\">\n",
       "      <th></th>\n",
       "      <th></th>\n",
       "      <th>member_id</th>\n",
       "      <th>member_since</th>\n",
       "      <th>customer_tenure</th>\n",
       "      <th>total_paid</th>\n",
       "    </tr>\n",
       "    <tr>\n",
       "      <th>loyalty_status</th>\n",
       "      <th>yearly_dues</th>\n",
       "      <th></th>\n",
       "      <th></th>\n",
       "      <th></th>\n",
       "      <th></th>\n",
       "    </tr>\n",
       "  </thead>\n",
       "  <tbody>\n",
       "    <tr>\n",
       "      <th rowspan=\"2\" valign=\"top\">Gold</th>\n",
       "      <th>100</th>\n",
       "      <td>1482.333333</td>\n",
       "      <td>2007.666667</td>\n",
       "      <td>13.333333</td>\n",
       "      <td>1333.333333</td>\n",
       "    </tr>\n",
       "    <tr>\n",
       "      <th>200</th>\n",
       "      <td>1772.000000</td>\n",
       "      <td>2010.000000</td>\n",
       "      <td>11.000000</td>\n",
       "      <td>2200.000000</td>\n",
       "    </tr>\n",
       "    <tr>\n",
       "      <th rowspan=\"2\" valign=\"top\">Newbie</th>\n",
       "      <th>150</th>\n",
       "      <td>1239.000000</td>\n",
       "      <td>2018.500000</td>\n",
       "      <td>2.500000</td>\n",
       "      <td>375.000000</td>\n",
       "    </tr>\n",
       "    <tr>\n",
       "      <th>200</th>\n",
       "      <td>1300.500000</td>\n",
       "      <td>2018.500000</td>\n",
       "      <td>2.500000</td>\n",
       "      <td>500.000000</td>\n",
       "    </tr>\n",
       "    <tr>\n",
       "      <th rowspan=\"3\" valign=\"top\">Platinum</th>\n",
       "      <th>100</th>\n",
       "      <td>1670.500000</td>\n",
       "      <td>1992.250000</td>\n",
       "      <td>28.750000</td>\n",
       "      <td>2875.000000</td>\n",
       "    </tr>\n",
       "    <tr>\n",
       "      <th>150</th>\n",
       "      <td>1474.000000</td>\n",
       "      <td>1997.000000</td>\n",
       "      <td>24.000000</td>\n",
       "      <td>3600.000000</td>\n",
       "    </tr>\n",
       "    <tr>\n",
       "      <th>200</th>\n",
       "      <td>1690.000000</td>\n",
       "      <td>2000.333333</td>\n",
       "      <td>20.666667</td>\n",
       "      <td>4133.333333</td>\n",
       "    </tr>\n",
       "    <tr>\n",
       "      <th rowspan=\"2\" valign=\"top\">Silver</th>\n",
       "      <th>100</th>\n",
       "      <td>1458.000000</td>\n",
       "      <td>2013.000000</td>\n",
       "      <td>8.000000</td>\n",
       "      <td>800.000000</td>\n",
       "    </tr>\n",
       "    <tr>\n",
       "      <th>200</th>\n",
       "      <td>1784.000000</td>\n",
       "      <td>2012.000000</td>\n",
       "      <td>9.000000</td>\n",
       "      <td>1800.000000</td>\n",
       "    </tr>\n",
       "  </tbody>\n",
       "</table>\n",
       "</div>"
      ],
      "text/plain": [
       "                              member_id  member_since  customer_tenure  \\\n",
       "loyalty_status yearly_dues                                               \n",
       "Gold           100          1482.333333   2007.666667        13.333333   \n",
       "               200          1772.000000   2010.000000        11.000000   \n",
       "Newbie         150          1239.000000   2018.500000         2.500000   \n",
       "               200          1300.500000   2018.500000         2.500000   \n",
       "Platinum       100          1670.500000   1992.250000        28.750000   \n",
       "               150          1474.000000   1997.000000        24.000000   \n",
       "               200          1690.000000   2000.333333        20.666667   \n",
       "Silver         100          1458.000000   2013.000000         8.000000   \n",
       "               200          1784.000000   2012.000000         9.000000   \n",
       "\n",
       "                             total_paid  \n",
       "loyalty_status yearly_dues               \n",
       "Gold           100          1333.333333  \n",
       "               200          2200.000000  \n",
       "Newbie         150           375.000000  \n",
       "               200           500.000000  \n",
       "Platinum       100          2875.000000  \n",
       "               150          3600.000000  \n",
       "               200          4133.333333  \n",
       "Silver         100           800.000000  \n",
       "               200          1800.000000  "
      ]
     },
     "execution_count": 48,
     "metadata": {},
     "output_type": "execute_result"
    }
   ],
   "source": [
    "customers.groupby(['loyalty_status', 'yearly_dues']).mean()"
   ]
  },
  {
   "cell_type": "markdown",
   "metadata": {},
   "source": [
    "### Homework Excersise #1 - White Sox Data<br>\n",
    "<p>Return a dataframe showing the White Sox qualified hitters* in order from best to worst XBHA**.</p>\n",
    "<p>*A hitter must have at least 100 At Bats (AB's) to qualify</p>\n",
    "<p>** XBHA is calculated as the number of extra base hits (2B, 3B, HR) divided by the number of At Bats (AB's)</p>"
   ]
  },
  {
   "cell_type": "code",
   "execution_count": null,
   "metadata": {},
   "outputs": [],
   "source": []
  },
  {
   "cell_type": "code",
   "execution_count": 83,
   "metadata": {
    "scrolled": true
   },
   "outputs": [
    {
     "data": {
      "text/html": [
       "<div>\n",
       "<style scoped>\n",
       "    .dataframe tbody tr th:only-of-type {\n",
       "        vertical-align: middle;\n",
       "    }\n",
       "\n",
       "    .dataframe tbody tr th {\n",
       "        vertical-align: top;\n",
       "    }\n",
       "\n",
       "    .dataframe thead th {\n",
       "        text-align: right;\n",
       "    }\n",
       "</style>\n",
       "<table border=\"1\" class=\"dataframe\">\n",
       "  <thead>\n",
       "    <tr style=\"text-align: right;\">\n",
       "      <th></th>\n",
       "      <th>Name</th>\n",
       "      <th>XBHA</th>\n",
       "    </tr>\n",
       "  </thead>\n",
       "  <tbody>\n",
       "    <tr>\n",
       "      <th>0</th>\n",
       "      <td>Luis Robert</td>\n",
       "      <td>0.130909</td>\n",
       "    </tr>\n",
       "    <tr>\n",
       "      <th>1</th>\n",
       "      <td>Adam Engel</td>\n",
       "      <td>0.130081</td>\n",
       "    </tr>\n",
       "    <tr>\n",
       "      <th>2</th>\n",
       "      <td>Gavin Sheets</td>\n",
       "      <td>0.118750</td>\n",
       "    </tr>\n",
       "    <tr>\n",
       "      <th>3</th>\n",
       "      <td>Yasmani Grandal</td>\n",
       "      <td>0.114695</td>\n",
       "    </tr>\n",
       "    <tr>\n",
       "      <th>4</th>\n",
       "      <td>José Abreu</td>\n",
       "      <td>0.109541</td>\n",
       "    </tr>\n",
       "    <tr>\n",
       "      <th>5</th>\n",
       "      <td>Billy Hamilton</td>\n",
       "      <td>0.102362</td>\n",
       "    </tr>\n",
       "    <tr>\n",
       "      <th>6</th>\n",
       "      <td>Eloy Jimenez</td>\n",
       "      <td>0.093897</td>\n",
       "    </tr>\n",
       "    <tr>\n",
       "      <th>7</th>\n",
       "      <td>Yoan Moncada</td>\n",
       "      <td>0.092308</td>\n",
       "    </tr>\n",
       "    <tr>\n",
       "      <th>8</th>\n",
       "      <td>Tim Anderson</td>\n",
       "      <td>0.091082</td>\n",
       "    </tr>\n",
       "    <tr>\n",
       "      <th>9</th>\n",
       "      <td>Andrew Vaughn</td>\n",
       "      <td>0.088729</td>\n",
       "    </tr>\n",
       "    <tr>\n",
       "      <th>10</th>\n",
       "      <td>Zack Collins</td>\n",
       "      <td>0.087179</td>\n",
       "    </tr>\n",
       "    <tr>\n",
       "      <th>11</th>\n",
       "      <td>Brian Goodwin</td>\n",
       "      <td>0.080851</td>\n",
       "    </tr>\n",
       "    <tr>\n",
       "      <th>12</th>\n",
       "      <td>Nick Madrigal</td>\n",
       "      <td>0.080000</td>\n",
       "    </tr>\n",
       "    <tr>\n",
       "      <th>13</th>\n",
       "      <td>Adam Eaton</td>\n",
       "      <td>0.079365</td>\n",
       "    </tr>\n",
       "    <tr>\n",
       "      <th>14</th>\n",
       "      <td>Leury Garcia</td>\n",
       "      <td>0.074699</td>\n",
       "    </tr>\n",
       "    <tr>\n",
       "      <th>15</th>\n",
       "      <td>Yermin Mercedes</td>\n",
       "      <td>0.070833</td>\n",
       "    </tr>\n",
       "    <tr>\n",
       "      <th>16</th>\n",
       "      <td>Jake Lamb</td>\n",
       "      <td>0.070796</td>\n",
       "    </tr>\n",
       "    <tr>\n",
       "      <th>17</th>\n",
       "      <td>Danny Mendick</td>\n",
       "      <td>0.042683</td>\n",
       "    </tr>\n",
       "    <tr>\n",
       "      <th>18</th>\n",
       "      <td>Cesar Hernandez</td>\n",
       "      <td>0.036082</td>\n",
       "    </tr>\n",
       "  </tbody>\n",
       "</table>\n",
       "</div>"
      ],
      "text/plain": [
       "               Name      XBHA\n",
       "0       Luis Robert  0.130909\n",
       "1        Adam Engel  0.130081\n",
       "2      Gavin Sheets  0.118750\n",
       "3   Yasmani Grandal  0.114695\n",
       "4        José Abreu  0.109541\n",
       "5    Billy Hamilton  0.102362\n",
       "6      Eloy Jimenez  0.093897\n",
       "7      Yoan Moncada  0.092308\n",
       "8      Tim Anderson  0.091082\n",
       "9     Andrew Vaughn  0.088729\n",
       "10     Zack Collins  0.087179\n",
       "11    Brian Goodwin  0.080851\n",
       "12    Nick Madrigal  0.080000\n",
       "13       Adam Eaton  0.079365\n",
       "14     Leury Garcia  0.074699\n",
       "15  Yermin Mercedes  0.070833\n",
       "16        Jake Lamb  0.070796\n",
       "17    Danny Mendick  0.042683\n",
       "18  Cesar Hernandez  0.036082"
      ]
     },
     "execution_count": 83,
     "metadata": {},
     "output_type": "execute_result"
    }
   ],
   "source": []
  }
 ],
 "metadata": {
  "kernelspec": {
   "display_name": "Python 3",
   "language": "python",
   "name": "python3"
  },
  "language_info": {
   "codemirror_mode": {
    "name": "ipython",
    "version": 3
   },
   "file_extension": ".py",
   "mimetype": "text/x-python",
   "name": "python",
   "nbconvert_exporter": "python",
   "pygments_lexer": "ipython3",
   "version": "3.8.5"
  }
 },
 "nbformat": 4,
 "nbformat_minor": 2
}
