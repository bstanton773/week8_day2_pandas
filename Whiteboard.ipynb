{
 "cells": [
  {
   "cell_type": "code",
   "execution_count": 1,
   "metadata": {},
   "outputs": [
    {
     "name": "stdout",
     "output_type": "stream",
     "text": [
      "['Shogun']\n",
      "['Shogun']\n",
      "['Shogun', 'Tapioca Express', 'Burger King', 'KFC']\n",
      "['Shogun', 'Tapioca Express', 'Burger King', 'KFC']\n",
      "['KFC']\n"
     ]
    }
   ],
   "source": [
    "def where_do_we_eat(my_options, your_options):\n",
    "    our_options = {}\n",
    "    your_options_set = set(your_options)\n",
    "    for restaurant in my_options:\n",
    "        if restaurant in your_options_set:\n",
    "            index_sum = my_options.index(restaurant) + your_options.index(restaurant)\n",
    "            our_options[restaurant] = index_sum\n",
    "    min_index_sum = min(our_options.values())\n",
    "    return [key for key, value in our_options.items() if value == min_index_sum]\n",
    "\n",
    "\n",
    "\n",
    "list1 = [\"Shogun\",\"Tapioca Express\",\"Burger King\",\"KFC\"]\n",
    "list2 = [\"Piatti\",\"The Grill at Torrey Pines\",\"Hungry Hunter Steakhouse\",\"Shogun\"]\n",
    "list3 = [\"Shogun\",\"Tapioca Express\",\"Burger King\",\"KFC\"] \n",
    "list4 = [\"KFC\",\"Shogun\",\"Burger King\"]\n",
    "list5 = [\"Shogun\",\"Tapioca Express\",\"Burger King\",\"KFC\"]\n",
    "list6 = [\"KFC\",\"Burger King\",\"Tapioca Express\",\"Shogun\"]\n",
    "list7 = [\"Shogun\",\"Tapioca Express\",\"Burger King\",\"KFC\"] \n",
    "list8 = [\"KNN\",\"KFC\",\"Burger King\",\"Tapioca Express\",\"Shogun\"]\n",
    "list9 = [\"KFC\"] \n",
    "list10 = [\"KFC\"]\n",
    "print(where_do_we_eat(list1, list2)) # Output: [\"Shogun\"]\n",
    "print(where_do_we_eat(list3, list4)) # Output: [\"Shogun\"]\n",
    "print(where_do_we_eat(list5, list6)) # Output: [\"KFC\",\"Burger King\",\"Tapioca Express\",\"Shogun\"]\n",
    "print(where_do_we_eat(list7, list8)) # Output: [\"KFC\",\"Burger King\",\"Tapioca Express\",\"Shogun\"]\n",
    "print(where_do_we_eat(list9, list10)) # Output: [\"KFC\"]"
   ]
  },
  {
   "cell_type": "code",
   "execution_count": null,
   "metadata": {},
   "outputs": [],
   "source": []
  }
 ],
 "metadata": {
  "kernelspec": {
   "display_name": "Python 3",
   "language": "python",
   "name": "python3"
  },
  "language_info": {
   "codemirror_mode": {
    "name": "ipython",
    "version": 3
   },
   "file_extension": ".py",
   "mimetype": "text/x-python",
   "name": "python",
   "nbconvert_exporter": "python",
   "pygments_lexer": "ipython3",
   "version": "3.8.5"
  }
 },
 "nbformat": 4,
 "nbformat_minor": 4
}
